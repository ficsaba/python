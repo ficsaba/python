{
 "cells": [
  {
   "cell_type": "code",
   "execution_count": 7,
   "id": "ef47a227-5feb-4fc0-86c8-5f3742f4c3ed",
   "metadata": {},
   "outputs": [
    {
     "name": "stdout",
     "output_type": "stream",
     "text": [
      "4 4 4\n",
      "1 2 3\n",
      "Result of swap: 2 1\n",
      "<class 'tuple'>\n",
      "4 5 6\n"
     ]
    }
   ],
   "source": [
    "# assign multiple values\n",
    "x = y = z = 4\n",
    "print(x,y,z)\n",
    "\n",
    "x, y, z = 1, 2, 3\n",
    "print(x,y,z)\n",
    "\n",
    "# swap variables\n",
    "x, y = y, x\n",
    "print(\"Result of swap:\",x,y)\n",
    "\n",
    "# unpacking\n",
    "t = (4,5,6)\n",
    "print(type(t))\n",
    "x, y, z = t\n",
    "print(x,y,z)"
   ]
  },
  {
   "cell_type": "code",
   "execution_count": 13,
   "id": "ab1b199d-7b67-46b0-afb8-15ca146591f4",
   "metadata": {},
   "outputs": [
    {
     "name": "stdout",
     "output_type": "stream",
     "text": [
      "4\n",
      "global\n",
      "5\n",
      "6\n"
     ]
    }
   ],
   "source": [
    "# global variables\n",
    "def func1():\n",
    "    global x\n",
    "    x = \"global\"\n",
    "\n",
    "x = 4\n",
    "print(x)\n",
    "func1()\n",
    "print(x)\n",
    "\n",
    "def func2():\n",
    "    global x\n",
    "    x = 6\n",
    "\n",
    "x = 5\n",
    "print(x)\n",
    "func2()\n",
    "print(x)"
   ]
  },
  {
   "cell_type": "code",
   "execution_count": 4,
   "id": "ddcde59d-c04e-4823-9d87-03859c792d26",
   "metadata": {},
   "outputs": [
    {
     "name": "stdout",
     "output_type": "stream",
     "text": [
      "abc,\n",
      "  def\n",
      "\n",
      "False \n",
      "\n",
      "c,\n",
      "  de \n",
      "\n",
      "a=3, b=2\n"
     ]
    }
   ],
   "source": [
    "# strings\n",
    "\n",
    "# multiline\n",
    "a = \"\"\"abc,\n",
    "  def\"\"\"\n",
    "\n",
    "print(a+\"\\n\")\n",
    "\n",
    "# test\n",
    "print(\"bc,\" not in a,\"\\n\")\n",
    "\n",
    "# slicing\n",
    "print(a[2:-1],\"\\n\")\n",
    "\n",
    "# formatting\n",
    "s = \"a={1}, b={0}\"\n",
    "print(s.format(2,3))"
   ]
  },
  {
   "cell_type": "code",
   "execution_count": 13,
   "id": "f162c083-0fff-4f2d-b0cb-72b393c6dce4",
   "metadata": {},
   "outputs": [
    {
     "name": "stdout",
     "output_type": "stream",
     "text": [
      "True\n",
      "False\n",
      "False\n"
     ]
    }
   ],
   "source": [
    "# boolean\n",
    "a=2\n",
    "print(isinstance(a,int))\n",
    "\n",
    "print(bool(\"\"))\n",
    "\n",
    "# operators\n",
    "b=a\n",
    "print(a is not b)"
   ]
  },
  {
   "cell_type": "code",
   "execution_count": 24,
   "id": "0ea7d248-4c6a-4185-8318-789c533c1617",
   "metadata": {},
   "outputs": [
    {
     "name": "stdout",
     "output_type": "stream",
     "text": [
      "less\n",
      "equal or less\n",
      "less\n"
     ]
    }
   ],
   "source": [
    "# if\n",
    "a = 2\n",
    "b = 3\n",
    "\n",
    "if a>b:\n",
    "    print(\"greater\")\n",
    "elif a==b:\n",
    "    print(\"equal\")\n",
    "else:\n",
    "    print(\"less\")\n",
    "    \n",
    "print(\"greater\") if a>b else print(\"equal or less\")\n",
    "\n",
    "print(\"greater\") if a>b else print(\"equal\") if a==b else print(\"less\")"
   ]
  },
  {
   "cell_type": "code",
   "execution_count": 27,
   "id": "def90073-6fde-4c71-a8f4-e6c9e2682ce4",
   "metadata": {},
   "outputs": [
    {
     "name": "stdout",
     "output_type": "stream",
     "text": [
      "1\n",
      "2\n",
      "3\n",
      "4\n",
      "we have reached 5\n"
     ]
    }
   ],
   "source": [
    "# loops\n",
    "i=1\n",
    "while i<5:\n",
    "    print(i)\n",
    "    i+=1\n",
    "else:\n",
    "    print(\"we have reached {}\".format(5))"
   ]
  },
  {
   "cell_type": "code",
   "execution_count": 12,
   "id": "3044fca9-d574-4849-9a7b-8fb1325d90a7",
   "metadata": {},
   "outputs": [
    {
     "name": "stdout",
     "output_type": "stream",
     "text": [
      "<class 'tuple'>\n",
      "9 \n",
      "\n",
      "-1 \n",
      "\n",
      "1 \n",
      "\n",
      "{'first': 'John', 'last': 'Dow'}\n",
      "\n"
     ]
    }
   ],
   "source": [
    "# functions\n",
    "def add(*args):\n",
    "    print(type(args))\n",
    "    return sum(args)\n",
    "\n",
    "print(add(2,4,3),\"\\n\")\n",
    "\n",
    "def subtract(a,b=0):\n",
    "    return a-b\n",
    "\n",
    "print(subtract(b=2,a=1),\"\\n\")\n",
    "print(subtract(1),\"\\n\")\n",
    "\n",
    "def name(**kwargs):\n",
    "    print(kwargs)\n",
    "\n",
    "name(first=\"John\",last=\"Dow\")\n",
    "print()"
   ]
  },
  {
   "cell_type": "code",
   "execution_count": 28,
   "id": "3a10472e-0c3c-4e10-8f81-06259187c7e2",
   "metadata": {},
   "outputs": [
    {
     "name": "stdout",
     "output_type": "stream",
     "text": [
      "\n",
      "\n",
      "Recursion Example Results\n",
      "1\n",
      "3\n",
      "6\n",
      "10\n",
      "15\n",
      "21\n"
     ]
    },
    {
     "data": {
      "text/plain": [
       "21"
      ]
     },
     "execution_count": 28,
     "metadata": {},
     "output_type": "execute_result"
    }
   ],
   "source": [
    "# recursion\n",
    "def tri_recursion(k):\n",
    "  if(k > 0):\n",
    "    result = k + tri_recursion(k - 1)\n",
    "    print(result)\n",
    "  else:\n",
    "    result = 0\n",
    "  return result\n",
    "\n",
    "print(\"\\n\\nRecursion Example Results\")\n",
    "tri_recursion(6)"
   ]
  },
  {
   "cell_type": "code",
   "execution_count": 14,
   "id": "be1b13f7-a8bc-46dc-ad26-78bebae50fb9",
   "metadata": {},
   "outputs": [
    {
     "name": "stdout",
     "output_type": "stream",
     "text": [
      "6\n",
      "20\n"
     ]
    }
   ],
   "source": [
    "# lambda\n",
    "x = lambda a,b: a*b\n",
    "print(x(2,3))\n",
    "\n",
    "def func(n):\n",
    "    return lambda a: n*a\n",
    "\n",
    "doubler = func(2)\n",
    "print(doubler(10))"
   ]
  },
  {
   "cell_type": "code",
   "execution_count": 23,
   "id": "40cdf9b0-aa8b-43f1-9d62-bd5c522a79c6",
   "metadata": {},
   "outputs": [
    {
     "name": "stdout",
     "output_type": "stream",
     "text": [
      "Name: John Doe, age: 45\n"
     ]
    }
   ],
   "source": [
    "# class\n",
    "class Person:\n",
    "    def __init__(self,name,age):\n",
    "        self.name = name\n",
    "        self.age = age\n",
    "    def introduce(self):\n",
    "        print(\"Name: {}, age: {}\".format(self.name,self.age))\n",
    "        \n",
    "p1 = Person(age=45,name=\"John Doe\")\n",
    "p1.introduce()"
   ]
  },
  {
   "cell_type": "code",
   "execution_count": null,
   "id": "4ee6d754-064f-4d60-b213-441b54ef8238",
   "metadata": {},
   "outputs": [],
   "source": []
  }
 ],
 "metadata": {
  "kernelspec": {
   "display_name": "Python 3 (ipykernel)",
   "language": "python",
   "name": "python3"
  },
  "language_info": {
   "codemirror_mode": {
    "name": "ipython",
    "version": 3
   },
   "file_extension": ".py",
   "mimetype": "text/x-python",
   "name": "python",
   "nbconvert_exporter": "python",
   "pygments_lexer": "ipython3",
   "version": "3.9.5"
  }
 },
 "nbformat": 4,
 "nbformat_minor": 5
}
